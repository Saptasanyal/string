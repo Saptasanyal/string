{
  "nbformat": 4,
  "nbformat_minor": 0,
  "metadata": {
    "colab": {
      "provenance": []
    },
    "kernelspec": {
      "name": "python3",
      "display_name": "Python 3"
    },
    "language_info": {
      "name": "python"
    }
  },
  "cells": [
    {
      "cell_type": "markdown",
      "source": [
        "\n",
        "**Concatenation (+)**\n",
        "Concatenation is used to join two or more strings together."
      ],
      "metadata": {
        "id": "92evI8_ymbR_"
      }
    },
    {
      "cell_type": "code",
      "execution_count": null,
      "metadata": {
        "id": "tt3ZiZ0cFmhD",
        "colab": {
          "base_uri": "https://localhost:8080/"
        },
        "outputId": "5b2b704c-7043-4423-df21-4341e213ec29"
      },
      "outputs": [
        {
          "output_type": "stream",
          "name": "stdout",
          "text": [
            "Hello, world!\n"
          ]
        }
      ],
      "source": [
        "str1 = \"Hello, \"\n",
        "str2 = \"world!\"\n",
        "result = str1 + str2\n",
        "print(result)  # Output: Hello, world!\n"
      ]
    },
    {
      "cell_type": "markdown",
      "source": [
        "Replication (*)\n",
        "Replication repeats a string a specified number of times."
      ],
      "metadata": {
        "id": "0R_xNrHdmxqQ"
      }
    },
    {
      "cell_type": "code",
      "source": [
        "str = \"Python! \"\n",
        "result = str * 3\n",
        "print(result)  # Output: Python! Python! Python!\n"
      ],
      "metadata": {
        "colab": {
          "base_uri": "https://localhost:8080/"
        },
        "id": "PQ3ZusIohWpg",
        "outputId": "b968e686-74f7-48d6-bf67-a28bde4fee05"
      },
      "execution_count": null,
      "outputs": [
        {
          "output_type": "stream",
          "name": "stdout",
          "text": [
            "Python! Python! Python! \n"
          ]
        }
      ]
    },
    {
      "cell_type": "markdown",
      "source": [
        "**Membership (in and not in)**\n",
        "Membership operators check if a particular substring exists within a string."
      ],
      "metadata": {
        "id": "uERqIp8smpXm"
      }
    },
    {
      "cell_type": "code",
      "source": [
        "str = \"Python programming is fun.\"\n",
        "# Check if \"programming\" is in the string\n",
        "print(\"programming\" in str)  # Output: True\n",
        "\n",
        "# Check if \"Java\" is not in the string\n",
        "print(\"Java\" not in str)  # Output: True\n"
      ],
      "metadata": {
        "colab": {
          "base_uri": "https://localhost:8080/"
        },
        "id": "JuExCuSRipZC",
        "outputId": "43077215-ac39-4ed1-b0a2-ff06404e5316"
      },
      "execution_count": null,
      "outputs": [
        {
          "output_type": "stream",
          "name": "stdout",
          "text": [
            "True\n",
            "True\n"
          ]
        }
      ]
    },
    {
      "cell_type": "markdown",
      "source": [
        "**Slicing ([:])**\n",
        "\n",
        "Slicing retrieves a part of the string. It takes the start index and the end index as arguments, and returns the part of the string from the start index to one character before the end index. If the start or end index is omitted, it means the start or end of the string, respectively."
      ],
      "metadata": {
        "id": "kBNVNzbPnXHK"
      }
    },
    {
      "cell_type": "code",
      "source": [
        "str = \"Hello, world!\"\n",
        "# Slice from 3rd to the 7th character\n",
        "print(str[2:7])  # Output: llo,\n",
        "\n",
        "# Slice from the beginning to the 5th character\n",
        "print(str[:5])  # Output: Hello\n",
        "\n",
        "# Slice from the 7th character to the end\n",
        "print(str[7:])  # Output: world!\n",
        "\n",
        "# Full slice\n",
        "print(str[:])  # Output: Hello, world!\n",
        "\n",
        "# Negative indexing\n",
        "print(str[-6:-1])  # Output: world\n"
      ],
      "metadata": {
        "colab": {
          "base_uri": "https://localhost:8080/"
        },
        "id": "IDrwxZYghsI1",
        "outputId": "7c12655f-0288-46d6-a7ff-cca64abc70a6"
      },
      "execution_count": null,
      "outputs": [
        {
          "output_type": "stream",
          "name": "stdout",
          "text": [
            "llo, \n",
            "Hello\n",
            "world!\n",
            "Hello, world!\n",
            "world\n"
          ]
        }
      ]
    },
    {
      "cell_type": "markdown",
      "source": [
        "**Comparison (==, !=)**\n",
        "\n",
        "Comparison operators compare the values on either side of the operator and decide the relation among them."
      ],
      "metadata": {
        "id": "kO4TFkFZnhp3"
      }
    },
    {
      "cell_type": "code",
      "source": [
        "str1 = \"Python\"\n",
        "str2 = \"Python\"\n",
        "str3 = \"python\"\n",
        "\n",
        "# Check if str1 is equal to str2\n",
        "print(str1 == str2)  # Output: True\n",
        "\n",
        "# Check if str1 is not equal to str3\n",
        "print(str1 != str3)  # Output: True\n"
      ],
      "metadata": {
        "id": "ffr_-Whovdzv",
        "colab": {
          "base_uri": "https://localhost:8080/"
        },
        "outputId": "e2213f8f-b763-4251-ad33-f7f5144b25b9"
      },
      "execution_count": null,
      "outputs": [
        {
          "output_type": "stream",
          "name": "stdout",
          "text": [
            "True\n",
            "True\n"
          ]
        }
      ]
    },
    {
      "cell_type": "markdown",
      "source": [
        "**capitalize()**\n",
        "\n",
        "Converts the first character to uppercase."
      ],
      "metadata": {
        "id": "j9kTr_Ctnv_F"
      }
    },
    {
      "cell_type": "code",
      "source": [
        "print(\"hello world\".capitalize())  # 'Hello world'\n"
      ],
      "metadata": {
        "colab": {
          "base_uri": "https://localhost:8080/"
        },
        "id": "EQ0itjl4nnYe",
        "outputId": "40585295-830c-4e2d-d676-85735de5a1e0"
      },
      "execution_count": null,
      "outputs": [
        {
          "output_type": "stream",
          "name": "stdout",
          "text": [
            "Hello world\n"
          ]
        }
      ]
    },
    {
      "cell_type": "markdown",
      "source": [
        "**casefold()**\n",
        "\n",
        "Converts string into lower case, more aggressive than lower()."
      ],
      "metadata": {
        "id": "x2ELZDezn4UJ"
      }
    },
    {
      "cell_type": "code",
      "source": [
        "print(\"HELLO World!\".casefold())  # 'hello world!'\n"
      ],
      "metadata": {
        "colab": {
          "base_uri": "https://localhost:8080/"
        },
        "id": "XGFstgrVnzIA",
        "outputId": "1d5dd1fb-891c-4da5-8b3e-8433d037b682"
      },
      "execution_count": null,
      "outputs": [
        {
          "output_type": "stream",
          "name": "stdout",
          "text": [
            "hello world!\n"
          ]
        }
      ]
    },
    {
      "cell_type": "markdown",
      "source": [
        "**center(width, fillchar)**\n",
        "Centers a string, padded with fillchar."
      ],
      "metadata": {
        "id": "-Ep4xXQAoq0T"
      }
    },
    {
      "cell_type": "code",
      "source": [
        "print(\"hello\".center(20, '-'))  # '-------hello--------'\n"
      ],
      "metadata": {
        "colab": {
          "base_uri": "https://localhost:8080/"
        },
        "id": "5kL8A49goD4Q",
        "outputId": "08023b66-45e9-4fd6-d1c0-3e4f09fa4fa0"
      },
      "execution_count": null,
      "outputs": [
        {
          "output_type": "stream",
          "name": "stdout",
          "text": [
            "-------hello--------\n"
          ]
        }
      ]
    },
    {
      "cell_type": "markdown",
      "source": [
        "**count(substring, start, end)**\n",
        "\n",
        "Returns the count of occurrences of a substring."
      ],
      "metadata": {
        "id": "ldpQ9tTLpBk8"
      }
    },
    {
      "cell_type": "code",
      "source": [
        "print(\"hello world\".count(\"l\", 0))  # 2\n"
      ],
      "metadata": {
        "colab": {
          "base_uri": "https://localhost:8080/"
        },
        "id": "2zEU2mMlouL1",
        "outputId": "fbffd438-05bb-4f36-9663-3b42b5e06b2f"
      },
      "execution_count": null,
      "outputs": [
        {
          "output_type": "stream",
          "name": "stdout",
          "text": [
            "3\n"
          ]
        }
      ]
    },
    {
      "cell_type": "markdown",
      "source": [
        "**encode(encoding='utf-8', errors='strict')**\n",
        "Encodes the string using the specified encoding."
      ],
      "metadata": {
        "id": "ifKBsf31pMc6"
      }
    },
    {
      "cell_type": "code",
      "source": [
        "print(\"héllo world\".encode())  # b'h\\xc3\\xa9llo world'\n"
      ],
      "metadata": {
        "colab": {
          "base_uri": "https://localhost:8080/"
        },
        "id": "qGHqp9pkpLu8",
        "outputId": "da056d5c-efe3-4f1d-c17f-a6807f497ba5"
      },
      "execution_count": null,
      "outputs": [
        {
          "output_type": "stream",
          "name": "stdout",
          "text": [
            "b'h\\xc3\\xa9llo world'\n"
          ]
        }
      ]
    },
    {
      "cell_type": "markdown",
      "source": [
        "**endswith(suffix, start, end)**\n",
        "\n",
        "Checks if the string ends with the specified suffix."
      ],
      "metadata": {
        "id": "TFfZHCGIpdP7"
      }
    },
    {
      "cell_type": "code",
      "source": [
        "print(\"hello\".endswith(\"lo\", 0, 5))  # True\n"
      ],
      "metadata": {
        "colab": {
          "base_uri": "https://localhost:8080/"
        },
        "id": "XGzw4leqpU5U",
        "outputId": "b2b64915-e778-48c7-8754-5469d2b2be65"
      },
      "execution_count": null,
      "outputs": [
        {
          "output_type": "stream",
          "name": "stdout",
          "text": [
            "True\n"
          ]
        }
      ]
    },
    {
      "cell_type": "markdown",
      "source": [
        "**expandtabs(tabsize=8)**\n",
        "\n",
        "Replaces tabs in a string with the specified number of spaces."
      ],
      "metadata": {
        "id": "MOT8x0ympk4x"
      }
    },
    {
      "cell_type": "code",
      "source": [
        "print(\"hello\\tworld\".expandtabs(4))  # 'hello   world'\n"
      ],
      "metadata": {
        "colab": {
          "base_uri": "https://localhost:8080/"
        },
        "id": "QbN-4ddxphHT",
        "outputId": "5067a306-c8f7-4ec7-8dd7-c5019f924423"
      },
      "execution_count": null,
      "outputs": [
        {
          "output_type": "stream",
          "name": "stdout",
          "text": [
            "hello   world\n"
          ]
        }
      ]
    },
    {
      "cell_type": "markdown",
      "source": [
        "**find(sub, start, end)**\n",
        "\n",
        "Searches the string for a specified value and returns the first position of where it was found."
      ],
      "metadata": {
        "id": "COq0W-6cqV8v"
      }
    },
    {
      "cell_type": "code",
      "source": [
        "print(\"hello world\".find(\"world\", 0, 11))  # 6\n"
      ],
      "metadata": {
        "colab": {
          "base_uri": "https://localhost:8080/"
        },
        "id": "TwL_XjRYqBMa",
        "outputId": "eb396b8b-5825-49d4-aa20-4d8d509efe4e"
      },
      "execution_count": null,
      "outputs": [
        {
          "output_type": "stream",
          "name": "stdout",
          "text": [
            "6\n"
          ]
        }
      ]
    },
    {
      "cell_type": "markdown",
      "source": [
        "**format(*args, **kwargs) **\n",
        "\n",
        "Formats specified values in a string."
      ],
      "metadata": {
        "id": "UTNz89R5qdYI"
      }
    },
    {
      "cell_type": "code",
      "source": [
        "print(\"Hello, {name}!\".format(name=\"Alice\"))  # 'Hello, Alice!'\n"
      ],
      "metadata": {
        "colab": {
          "base_uri": "https://localhost:8080/"
        },
        "id": "vWXvkSszqcmB",
        "outputId": "30a42431-9bad-4bcc-e389-d20e9f9f9deb"
      },
      "execution_count": null,
      "outputs": [
        {
          "output_type": "stream",
          "name": "stdout",
          "text": [
            "Hello, Alice!\n"
          ]
        }
      ]
    },
    {
      "cell_type": "markdown",
      "source": [
        "**format_map(mapping)**\n",
        "\n",
        "Formats specified values in a string using a dictionary."
      ],
      "metadata": {
        "id": "MaQHc6Ngqy4I"
      }
    },
    {
      "cell_type": "code",
      "source": [
        "print(\"Hello, {name}!\".format_map({'name': 'Alice'}))  # 'Hello, Alice!'\n"
      ],
      "metadata": {
        "colab": {
          "base_uri": "https://localhost:8080/"
        },
        "id": "7Pl05BuIqxx4",
        "outputId": "c3508bd0-f847-4036-fb1e-93760abdadeb"
      },
      "execution_count": null,
      "outputs": [
        {
          "output_type": "stream",
          "name": "stdout",
          "text": [
            "Hello, Alice!\n"
          ]
        }
      ]
    },
    {
      "cell_type": "markdown",
      "source": [
        "**index(sub, start, end)**\n",
        "\n",
        "Searches the string for a specified value and returns the position of where it was found.\n",
        "\n"
      ],
      "metadata": {
        "id": "W1hi-lM7rHY8"
      }
    },
    {
      "cell_type": "code",
      "source": [
        "print(\"hello world\".index(\"world\", 0, 11))  # 6\n"
      ],
      "metadata": {
        "colab": {
          "base_uri": "https://localhost:8080/"
        },
        "id": "HTM1ty0cq6tf",
        "outputId": "b28b8b81-e454-474b-b80a-42688966aa4e"
      },
      "execution_count": null,
      "outputs": [
        {
          "output_type": "stream",
          "name": "stdout",
          "text": [
            "6\n"
          ]
        }
      ]
    },
    {
      "cell_type": "markdown",
      "source": [
        "**isalnum()**\n",
        "\n",
        "Returns True if all characters in the string are alphanumeric."
      ],
      "metadata": {
        "id": "LCyf6CRIrSoa"
      }
    },
    {
      "cell_type": "code",
      "source": [
        "print(\"hello123\".isalnum())  # True\n"
      ],
      "metadata": {
        "colab": {
          "base_uri": "https://localhost:8080/"
        },
        "id": "RmiuKpw1rNsf",
        "outputId": "98d102da-8f50-432d-d6cb-328bac86ad66"
      },
      "execution_count": null,
      "outputs": [
        {
          "output_type": "stream",
          "name": "stdout",
          "text": [
            "True\n"
          ]
        }
      ]
    },
    {
      "cell_type": "markdown",
      "source": [
        "**isalpha()**\n",
        "\n",
        "Returns True if all characters in the string are in the alphabet."
      ],
      "metadata": {
        "id": "YYNg0DEcrgUb"
      }
    },
    {
      "cell_type": "code",
      "source": [
        "print(\"hello\".isalpha())  # True\n"
      ],
      "metadata": {
        "colab": {
          "base_uri": "https://localhost:8080/"
        },
        "id": "kqSfC_WarZTe",
        "outputId": "cabab60c-4b59-47a1-d8c4-18a910d40084"
      },
      "execution_count": null,
      "outputs": [
        {
          "output_type": "stream",
          "name": "stdout",
          "text": [
            "True\n"
          ]
        }
      ]
    },
    {
      "cell_type": "markdown",
      "source": [
        "**isascii()**\n",
        "\n",
        "Returns True if all characters in the string are ASCII characters."
      ],
      "metadata": {
        "id": "uW3JmZOIrp4-"
      }
    },
    {
      "cell_type": "code",
      "source": [
        "print(\"hello\".isascii())  # True\n"
      ],
      "metadata": {
        "colab": {
          "base_uri": "https://localhost:8080/"
        },
        "id": "7VBYiAWArkDW",
        "outputId": "d3a8e93c-3833-4940-80d2-5a3744c7bd9b"
      },
      "execution_count": null,
      "outputs": [
        {
          "output_type": "stream",
          "name": "stdout",
          "text": [
            "True\n"
          ]
        }
      ]
    },
    {
      "cell_type": "markdown",
      "source": [
        "**isdecimal()**\n",
        "\n",
        "Returns True if all characters in the string are decimals."
      ],
      "metadata": {
        "id": "R4t1DiTrrxqo"
      }
    },
    {
      "cell_type": "code",
      "source": [
        "print(\"123\".isdecimal())  # True\n"
      ],
      "metadata": {
        "colab": {
          "base_uri": "https://localhost:8080/"
        },
        "id": "9v3s8NKwrwod",
        "outputId": "be5f6cf7-cf77-4bb7-8823-8896dee21411"
      },
      "execution_count": null,
      "outputs": [
        {
          "output_type": "stream",
          "name": "stdout",
          "text": [
            "True\n"
          ]
        }
      ]
    },
    {
      "cell_type": "markdown",
      "source": [
        "**isdigit()**\n",
        "\n",
        "Returns True if all characters in the string are digits."
      ],
      "metadata": {
        "id": "BtKzeUa_r94K"
      }
    },
    {
      "cell_type": "code",
      "source": [
        "print(\"123\".isdigit())  # True\n"
      ],
      "metadata": {
        "colab": {
          "base_uri": "https://localhost:8080/"
        },
        "id": "GsytAG38r9Hs",
        "outputId": "a3b0b5db-900b-4997-ec6b-a83ce50cc839"
      },
      "execution_count": null,
      "outputs": [
        {
          "output_type": "stream",
          "name": "stdout",
          "text": [
            "True\n"
          ]
        }
      ]
    },
    {
      "cell_type": "markdown",
      "source": [
        "**isidentifier()**\n",
        "\n",
        "Returns True if the string is a valid identifier."
      ],
      "metadata": {
        "id": "rF3TSiyhsMsB"
      }
    },
    {
      "cell_type": "code",
      "source": [
        "print(\"hello\".isidentifier())  # True\n"
      ],
      "metadata": {
        "colab": {
          "base_uri": "https://localhost:8080/"
        },
        "id": "7imPK6yssIKM",
        "outputId": "84dc6423-fb2c-4759-f4c2-1914048a9716"
      },
      "execution_count": null,
      "outputs": [
        {
          "output_type": "stream",
          "name": "stdout",
          "text": [
            "True\n"
          ]
        }
      ]
    },
    {
      "cell_type": "markdown",
      "source": [
        "**islower()**\n",
        "Returns True if all characters in the string are lower case."
      ],
      "metadata": {
        "id": "venIcYxasTrp"
      }
    },
    {
      "cell_type": "code",
      "source": [
        "print(\"hello\".islower())  # True\n"
      ],
      "metadata": {
        "colab": {
          "base_uri": "https://localhost:8080/"
        },
        "id": "iLnPkncJsSUs",
        "outputId": "90b51dfa-742d-4317-a102-105139b09254"
      },
      "execution_count": null,
      "outputs": [
        {
          "output_type": "stream",
          "name": "stdout",
          "text": [
            "True\n"
          ]
        }
      ]
    },
    {
      "cell_type": "markdown",
      "source": [
        "**isnumeric()**\n",
        "Returns True if all characters in the string are numeric."
      ],
      "metadata": {
        "id": "39c87g8PscmW"
      }
    },
    {
      "cell_type": "code",
      "source": [
        "print(\"123\".isnumeric())  # True\n"
      ],
      "metadata": {
        "colab": {
          "base_uri": "https://localhost:8080/"
        },
        "id": "ORK9xxo7sYn0",
        "outputId": "8ada9eac-7f46-4051-a6d6-c733bb319346"
      },
      "execution_count": null,
      "outputs": [
        {
          "output_type": "stream",
          "name": "stdout",
          "text": [
            "True\n"
          ]
        }
      ]
    },
    {
      "cell_type": "markdown",
      "source": [
        "**isprintable()**\n",
        "Returns True if all characters in the string are printable."
      ],
      "metadata": {
        "id": "MPow4S-GswbZ"
      }
    },
    {
      "cell_type": "code",
      "source": [
        "print(\"hello\".isprintable())  # True\n"
      ],
      "metadata": {
        "colab": {
          "base_uri": "https://localhost:8080/"
        },
        "id": "pOZ401vysgEj",
        "outputId": "2aca9542-821f-4d96-d196-3bd44726011c"
      },
      "execution_count": null,
      "outputs": [
        {
          "output_type": "stream",
          "name": "stdout",
          "text": [
            "True\n"
          ]
        }
      ]
    },
    {
      "cell_type": "markdown",
      "source": [
        "**isspace()**\n",
        "Returns True if all characters in the string are whitespaces"
      ],
      "metadata": {
        "id": "vfO6njHys2tF"
      }
    },
    {
      "cell_type": "code",
      "source": [
        "print(\"   \".isspace())  # True\n"
      ],
      "metadata": {
        "colab": {
          "base_uri": "https://localhost:8080/"
        },
        "id": "opz3nHXGs1yi",
        "outputId": "5ebda384-dd2c-4e82-9e52-b620ea77dc32"
      },
      "execution_count": null,
      "outputs": [
        {
          "output_type": "stream",
          "name": "stdout",
          "text": [
            "True\n"
          ]
        }
      ]
    },
    {
      "cell_type": "markdown",
      "source": [
        "**istitle()**\n",
        "Returns True if the string follows the rules of a title."
      ],
      "metadata": {
        "id": "fKodTqrTs_Iw"
      }
    },
    {
      "cell_type": "code",
      "source": [
        "print(\"Hello World\".istitle())  # True\n"
      ],
      "metadata": {
        "colab": {
          "base_uri": "https://localhost:8080/"
        },
        "id": "gZ7-KBgWs9_6",
        "outputId": "4c450986-ef22-420a-b4db-225cf5541d37"
      },
      "execution_count": null,
      "outputs": [
        {
          "output_type": "stream",
          "name": "stdout",
          "text": [
            "True\n"
          ]
        }
      ]
    },
    {
      "cell_type": "markdown",
      "source": [
        "**isupper()**\n",
        "Returns True if all characters in the string are upper case."
      ],
      "metadata": {
        "id": "GOBNwASwtFoq"
      }
    },
    {
      "cell_type": "code",
      "source": [
        "print(\"HELLO\".isupper())  # True\n"
      ],
      "metadata": {
        "colab": {
          "base_uri": "https://localhost:8080/"
        },
        "id": "-LNMsKsOtDNC",
        "outputId": "038934ea-45e6-4315-a3fc-46b941b30ec7"
      },
      "execution_count": null,
      "outputs": [
        {
          "output_type": "stream",
          "name": "stdout",
          "text": [
            "True\n"
          ]
        }
      ]
    },
    {
      "cell_type": "markdown",
      "source": [
        "**join(iterable)**\n",
        "Converts the elements of an iterable into a string."
      ],
      "metadata": {
        "id": "ChCiS9nItLLw"
      }
    },
    {
      "cell_type": "code",
      "source": [
        "print(\"-\".join([\"hello\", \"world\"]))  # 'hello-world'\n"
      ],
      "metadata": {
        "colab": {
          "base_uri": "https://localhost:8080/"
        },
        "id": "eIuWYHPgtH7a",
        "outputId": "0bc30941-af3e-4119-8fbf-1fa18703b75c"
      },
      "execution_count": null,
      "outputs": [
        {
          "output_type": "stream",
          "name": "stdout",
          "text": [
            "hello-world\n"
          ]
        }
      ]
    },
    {
      "cell_type": "markdown",
      "source": [
        "**ljust(width, fillchar)**\n",
        "Returns a left-justified version of the string."
      ],
      "metadata": {
        "id": "0F8kYX0btSNQ"
      }
    },
    {
      "cell_type": "code",
      "source": [
        "print(\"hello\".ljust(10, '-'))  # 'hello-----'\n"
      ],
      "metadata": {
        "colab": {
          "base_uri": "https://localhost:8080/"
        },
        "id": "mW5DPDSktO4x",
        "outputId": "bb3c79b6-82cc-423f-de1f-0071b8b3ef3f"
      },
      "execution_count": null,
      "outputs": [
        {
          "output_type": "stream",
          "name": "stdout",
          "text": [
            "hello-----\n"
          ]
        }
      ]
    },
    {
      "cell_type": "markdown",
      "source": [
        "**lower()**\n",
        "Converts a string into lower case."
      ],
      "metadata": {
        "id": "LRf0FjqgtX4W"
      }
    },
    {
      "cell_type": "code",
      "source": [
        "print(\"HELLO\".lower())  # 'hello'\n"
      ],
      "metadata": {
        "colab": {
          "base_uri": "https://localhost:8080/"
        },
        "id": "Yh3H6iCLtU8p",
        "outputId": "6e179246-aee7-4d03-e0c6-4a62f62a59f7"
      },
      "execution_count": null,
      "outputs": [
        {
          "output_type": "stream",
          "name": "stdout",
          "text": [
            "hello\n"
          ]
        }
      ]
    },
    {
      "cell_type": "markdown",
      "source": [
        "**lstrip([chars])**\n",
        "Returns a left-trim version of the string."
      ],
      "metadata": {
        "id": "2tI0xpvatbbW"
      }
    },
    {
      "cell_type": "code",
      "source": [
        "print(\"   hello\".lstrip())  # 'hello'\n"
      ],
      "metadata": {
        "colab": {
          "base_uri": "https://localhost:8080/"
        },
        "id": "pp_tvPAvtaiR",
        "outputId": "8508c21f-0134-44a7-95c3-f06b4035b97f"
      },
      "execution_count": null,
      "outputs": [
        {
          "output_type": "stream",
          "name": "stdout",
          "text": [
            "hello\n"
          ]
        }
      ]
    },
    {
      "cell_type": "markdown",
      "source": [
        "**maketrans(intab, outtab)**\n",
        "Creates a translation table."
      ],
      "metadata": {
        "id": "jd32Q-4_tjgr"
      }
    },
    {
      "cell_type": "code",
      "source": [
        "intab = \"aeiou\"\n",
        "outtab = \"12345\"\n",
        "trantab = str.maketrans(intab, outtab)\n",
        "print(\"hello world\".translate(trantab))  # 'h2ll4 w4rld'\n"
      ],
      "metadata": {
        "colab": {
          "base_uri": "https://localhost:8080/"
        },
        "id": "-gPqJSBttflJ",
        "outputId": "b71465fa-df46-4e38-ed6b-73027430448a"
      },
      "execution_count": null,
      "outputs": [
        {
          "output_type": "stream",
          "name": "stdout",
          "text": [
            "h2ll4 w4rld\n"
          ]
        }
      ]
    },
    {
      "cell_type": "markdown",
      "source": [
        "**partition(sep)**\n",
        "Partitions the string into three parts using the specified separator."
      ],
      "metadata": {
        "id": "-6KfiqG5ts9y"
      }
    },
    {
      "cell_type": "code",
      "source": [
        "print(\"hello world\".partition(\" \"))  # ('hello', ' ', 'world')\n"
      ],
      "metadata": {
        "colab": {
          "base_uri": "https://localhost:8080/"
        },
        "id": "9aIdBhDatn9g",
        "outputId": "0dd9d327-a346-45b0-8a27-9961e925125c"
      },
      "execution_count": null,
      "outputs": [
        {
          "output_type": "stream",
          "name": "stdout",
          "text": [
            "('hello', ' ', 'world')\n"
          ]
        }
      ]
    },
    {
      "cell_type": "markdown",
      "source": [
        "**replace(old, new[, count])**\n",
        "Replaces occurrences of a substring within the string."
      ],
      "metadata": {
        "id": "yWzkgRB1tx4C"
      }
    },
    {
      "cell_type": "code",
      "source": [
        "print(\"hello world\".replace(\"world\", \"Python\", 1))  # 'hello Python'\n"
      ],
      "metadata": {
        "colab": {
          "base_uri": "https://localhost:8080/"
        },
        "id": "MlzfPZBmtvUg",
        "outputId": "d37ec27d-d70d-4961-a76e-66fd0df201f1"
      },
      "execution_count": null,
      "outputs": [
        {
          "output_type": "stream",
          "name": "stdout",
          "text": [
            "hello Python\n"
          ]
        }
      ]
    },
    {
      "cell_type": "markdown",
      "source": [
        "**rfind(sub, start, end)**\n",
        "Searches the string for a specified value and returns the last position of where it was found."
      ],
      "metadata": {
        "id": "x_FAa3jet1mO"
      }
    },
    {
      "cell_type": "code",
      "source": [
        "print(\"hello world world\".rfind(\"world\", 0, 16))  # 12\n"
      ],
      "metadata": {
        "colab": {
          "base_uri": "https://localhost:8080/"
        },
        "id": "p9BtP724t05Q",
        "outputId": "3828d00c-e71d-49e6-bf80-7e719762477c"
      },
      "execution_count": null,
      "outputs": [
        {
          "output_type": "stream",
          "name": "stdout",
          "text": [
            "6\n"
          ]
        }
      ]
    },
    {
      "cell_type": "markdown",
      "source": [
        "**rindex(sub, start, end)**\n",
        "Similar to rfind, but raises ValueError if the substring is not found."
      ],
      "metadata": {
        "id": "vfpzr4IFt6vn"
      }
    },
    {
      "cell_type": "code",
      "source": [
        "print(\"hello world world\".rindex(\"world\", 0, 16))  # 12\n"
      ],
      "metadata": {
        "colab": {
          "base_uri": "https://localhost:8080/"
        },
        "id": "2o6zhqXRt53n",
        "outputId": "7dd4df9e-6883-4de7-9d33-0e4f77f0e0a1"
      },
      "execution_count": null,
      "outputs": [
        {
          "output_type": "stream",
          "name": "stdout",
          "text": [
            "6\n"
          ]
        }
      ]
    },
    {
      "cell_type": "markdown",
      "source": [
        "**rjust(width, fillchar)**\n",
        "Returns a right-justified version of the string."
      ],
      "metadata": {
        "id": "ligAvliNuH4q"
      }
    },
    {
      "cell_type": "code",
      "source": [
        "print(\"hello\".rjust(10, '-'))  # '-----hello'\n"
      ],
      "metadata": {
        "colab": {
          "base_uri": "https://localhost:8080/"
        },
        "id": "L2vExVXDuDmP",
        "outputId": "032411cd-7fde-4761-b1be-4d4e7cf57c11"
      },
      "execution_count": null,
      "outputs": [
        {
          "output_type": "stream",
          "name": "stdout",
          "text": [
            "-----hello\n"
          ]
        }
      ]
    },
    {
      "cell_type": "markdown",
      "source": [
        "**rpartition(sep)**\n",
        "Partitions the string into three parts, starting from the right."
      ],
      "metadata": {
        "id": "SgOr6fGmuMgW"
      }
    },
    {
      "cell_type": "code",
      "source": [
        "print(\"hello world world\".rpartition(\"world\"))  # ('hello world ', 'world', '')\n"
      ],
      "metadata": {
        "colab": {
          "base_uri": "https://localhost:8080/"
        },
        "id": "sJAfut2yuKeg",
        "outputId": "43b94683-1555-43cf-c03e-eb46bc548c42"
      },
      "execution_count": null,
      "outputs": [
        {
          "output_type": "stream",
          "name": "stdout",
          "text": [
            "('hello world ', 'world', '')\n"
          ]
        }
      ]
    },
    {
      "cell_type": "markdown",
      "source": [
        "**rsplit(sep=None, maxsplit=-1)**\n",
        "Splits the string from the right at the specified separator, and returns a list."
      ],
      "metadata": {
        "id": "KBqseaf9uTOC"
      }
    },
    {
      "cell_type": "code",
      "source": [
        "print(\"hello world world\".rsplit(\" \", 1))  # ['hello world', 'world']\n"
      ],
      "metadata": {
        "colab": {
          "base_uri": "https://localhost:8080/"
        },
        "id": "Iy1XxuSUuQzH",
        "outputId": "a1c53060-da14-42f8-f0da-2106ce12fa0c"
      },
      "execution_count": null,
      "outputs": [
        {
          "output_type": "stream",
          "name": "stdout",
          "text": [
            "['hello world', 'world']\n"
          ]
        }
      ]
    },
    {
      "cell_type": "markdown",
      "source": [
        "**rstrip([chars])**\n",
        "Returns a right-trim version of the string.\n",
        "\n"
      ],
      "metadata": {
        "id": "j0F-iuUEu6CB"
      }
    },
    {
      "cell_type": "code",
      "source": [
        "print(\"hello world   \".rstrip())  # 'hello world'\n"
      ],
      "metadata": {
        "colab": {
          "base_uri": "https://localhost:8080/"
        },
        "id": "RRUD2ZjXuWR2",
        "outputId": "2b2381d8-eb97-479c-9701-3bb6ed03d7cd"
      },
      "execution_count": null,
      "outputs": [
        {
          "output_type": "stream",
          "name": "stdout",
          "text": [
            "hello world\n"
          ]
        }
      ]
    },
    {
      "cell_type": "markdown",
      "source": [
        "**split(sep=None, maxsplit=-1)**\n",
        "Splits the string at the specified separator, and returns a list."
      ],
      "metadata": {
        "id": "L6guknY4vBkl"
      }
    },
    {
      "cell_type": "code",
      "source": [
        "print(\"hello world world\".split(\" \", 1))  # ['hello', 'world world']\n"
      ],
      "metadata": {
        "colab": {
          "base_uri": "https://localhost:8080/"
        },
        "id": "fkfUbJhpu8jN",
        "outputId": "b1f79203-8916-4553-8c92-15e0cb50cdaf"
      },
      "execution_count": null,
      "outputs": [
        {
          "output_type": "stream",
          "name": "stdout",
          "text": [
            "['hello', 'world world']\n"
          ]
        }
      ]
    },
    {
      "cell_type": "markdown",
      "source": [
        "**splitlines([keepends])**\n",
        "Splits the string at line breaks and returns a list."
      ],
      "metadata": {
        "id": "MN5NoVG-vIOZ"
      }
    },
    {
      "cell_type": "code",
      "source": [
        "print(\"hello\\nworld\".splitlines())  # ['hello', 'world']\n"
      ],
      "metadata": {
        "colab": {
          "base_uri": "https://localhost:8080/"
        },
        "id": "Tag3chNuvEHV",
        "outputId": "237381c9-53e0-43b4-8ef7-dd275f88fd01"
      },
      "execution_count": null,
      "outputs": [
        {
          "output_type": "stream",
          "name": "stdout",
          "text": [
            "['hello', 'world']\n"
          ]
        }
      ]
    },
    {
      "cell_type": "markdown",
      "source": [
        "**startswith(prefix, start, end)**\n",
        "Returns true if the string starts with the specified value."
      ],
      "metadata": {
        "id": "CJMN_5nmvNSG"
      }
    },
    {
      "cell_type": "code",
      "source": [
        "print(\"hello world\".startswith(\"hello\", 0, 5))  # True\n"
      ],
      "metadata": {
        "colab": {
          "base_uri": "https://localhost:8080/"
        },
        "id": "ZXJjN3MCvK70",
        "outputId": "03c1a86a-9d53-49a7-87a7-6c4f7ecd80f9"
      },
      "execution_count": null,
      "outputs": [
        {
          "output_type": "stream",
          "name": "stdout",
          "text": [
            "True\n"
          ]
        }
      ]
    },
    {
      "cell_type": "markdown",
      "source": [
        "**strip([chars])**\n",
        "Returns a trimmed version of the string."
      ],
      "metadata": {
        "id": "_WwvmZTJvRqf"
      }
    },
    {
      "cell_type": "code",
      "source": [
        "print(\"   hello world   \".strip())  # 'hello world'\n"
      ],
      "metadata": {
        "colab": {
          "base_uri": "https://localhost:8080/"
        },
        "id": "6kUvYx2jvPjc",
        "outputId": "7c68cedd-45c2-4c17-a420-f6375d2b0192"
      },
      "execution_count": null,
      "outputs": [
        {
          "output_type": "stream",
          "name": "stdout",
          "text": [
            "hello world\n"
          ]
        }
      ]
    },
    {
      "cell_type": "markdown",
      "source": [
        "**swapcase()**\n",
        "Swaps cases, lower case becomes upper case and vice versa."
      ],
      "metadata": {
        "id": "AlLDjhuRvXX5"
      }
    },
    {
      "cell_type": "code",
      "source": [
        "print(\"Hello World\".swapcase())  # 'hELLO wORLD'\n"
      ],
      "metadata": {
        "colab": {
          "base_uri": "https://localhost:8080/"
        },
        "id": "qGfWih1BvUec",
        "outputId": "40a371d4-cc22-43f4-b4b9-89693b49bc2b"
      },
      "execution_count": null,
      "outputs": [
        {
          "output_type": "stream",
          "name": "stdout",
          "text": [
            "hELLO wORLD\n"
          ]
        }
      ]
    },
    {
      "cell_type": "markdown",
      "source": [
        "**title()**\n",
        "Converts the first character of each word to upper case."
      ],
      "metadata": {
        "id": "Cg9zaHE8vaHL"
      }
    },
    {
      "cell_type": "code",
      "source": [
        "print(\"hello world\".title())  # 'Hello World'\n"
      ],
      "metadata": {
        "colab": {
          "base_uri": "https://localhost:8080/"
        },
        "id": "G4BaHakGvZfc",
        "outputId": "3f785b8d-63c7-44ef-9fec-596aab49cfb9"
      },
      "execution_count": null,
      "outputs": [
        {
          "output_type": "stream",
          "name": "stdout",
          "text": [
            "Hello World\n"
          ]
        }
      ]
    },
    {
      "cell_type": "markdown",
      "source": [
        "**translate(table) **- Returns a translated string"
      ],
      "metadata": {
        "id": "xVlCrCuUvwO9"
      }
    },
    {
      "cell_type": "code",
      "source": [
        "# Using the table from maketrans example\n",
        "print(\"hello world\".translate(trantab))  # 'h2ll4 w4rld'\n"
      ],
      "metadata": {
        "colab": {
          "base_uri": "https://localhost:8080/"
        },
        "id": "AxlKkegqvfa7",
        "outputId": "3829c799-90b8-4052-e65d-535cc0bc5944"
      },
      "execution_count": null,
      "outputs": [
        {
          "output_type": "stream",
          "name": "stdout",
          "text": [
            "h2ll4 w4rld\n"
          ]
        }
      ]
    },
    {
      "cell_type": "markdown",
      "source": [
        "**upper()** - Converts a string into upper case"
      ],
      "metadata": {
        "id": "Hr0kfzZsv1xh"
      }
    },
    {
      "cell_type": "code",
      "source": [
        "print(\"hello\".upper())  # 'HELLO'\n"
      ],
      "metadata": {
        "colab": {
          "base_uri": "https://localhost:8080/"
        },
        "id": "iI3O7QKVvzrC",
        "outputId": "2237a5ea-5c1c-482c-e310-c330dc5f20be"
      },
      "execution_count": null,
      "outputs": [
        {
          "output_type": "stream",
          "name": "stdout",
          "text": [
            "HELLO\n"
          ]
        }
      ]
    },
    {
      "cell_type": "markdown",
      "source": [
        "**zfill(width)** - Fills the string with a specified number of 0 values at the beginning"
      ],
      "metadata": {
        "id": "qREaig-dwBn9"
      }
    },
    {
      "cell_type": "code",
      "source": [
        "print(\"42\".zfill(5))  # '00042'\n"
      ],
      "metadata": {
        "colab": {
          "base_uri": "https://localhost:8080/"
        },
        "id": "YKcc_YeYv-wC",
        "outputId": "86ed34fe-ffa8-40ff-842c-e6ac867c9a7f"
      },
      "execution_count": null,
      "outputs": [
        {
          "output_type": "stream",
          "name": "stdout",
          "text": [
            "00042\n"
          ]
        }
      ]
    },
    {
      "cell_type": "code",
      "source": [],
      "metadata": {
        "id": "R-xeUiiywEWr"
      },
      "execution_count": null,
      "outputs": []
    }
  ]
}